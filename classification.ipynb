{
 "cells": [
  {
   "cell_type": "code",
   "execution_count": null,
   "metadata": {},
   "outputs": [],
   "source": [
    "# Passo 1: Importar as bibliotecas necessárias\n",
    "import pandas as pd\n",
    "from sklearn.model_selection import train_test_split\n",
    "from sklearn.metrics import classification_report\n",
    "from sklearn.ensemble import RandomForestClassifier\n",
    "from sklearn.preprocessing import MinMaxScaler\n",
    "import matplotlib.pyplot as plt\n",
    "import pickle\n",
    "import numpy as np\n",
    "import open3d as o3d"
   ]
  },
  {
   "cell_type": "code",
   "execution_count": null,
   "metadata": {},
   "outputs": [],
   "source": [
    "# Definir os caminhos\n",
    "data_folder = \"nuvem_de_pontos/\"\n",
    "DATANAME = \"3DML_urban_point_cloud.xyz\"\n",
    "\n",
    "# Carregar os dados\n",
    "pcd = pd.read_csv(data_folder + DATANAME, delimiter=' ')\n",
    "pcd.dropna(inplace=True)"
   ]
  },
  {
   "cell_type": "code",
   "execution_count": null,
   "metadata": {},
   "outputs": [],
   "source": [
    "# Preparar os dados\n",
    "labels = pcd['Classification']\n",
    "features = pcd[['X', 'Y', 'Z', 'R', 'G', 'B']]\n",
    "features_scaled = MinMaxScaler().fit_transform(features)\n",
    "\n",
    "# Dividir os dados\n",
    "X_train, X_test, y_train, y_test = train_test_split(features_scaled, labels, test_size=0.4)\n",
    "\n",
    "# Treinar o classificador\n",
    "rf_classifier = RandomForestClassifier(n_estimators=10)\n",
    "rf_classifier.fit(X_train, y_train)"
   ]
  },
  {
   "cell_type": "code",
   "execution_count": null,
   "metadata": {},
   "outputs": [],
   "source": [
    "# Avaliar o modelo\n",
    "rf_predictions = rf_classifier.predict(X_test)\n",
    "print(classification_report(y_test, rf_predictions, target_names=['ground', 'vegetation', 'buildings']))\n",
    "\n",
    "# Salvar o modelo treinado\n",
    "model_filename = data_folder + \"treinado\\\\aprendizado.pkl\"\n",
    "with open(model_filename, 'wb') as model_file:\n",
    "    pickle.dump(rf_classifier, model_file)\n",
    "\n",
    "print(f\"Modelo salvo em: {model_filename}\")"
   ]
  },
  {
   "cell_type": "code",
   "execution_count": null,
   "metadata": {},
   "outputs": [],
   "source": [
    "# Definir o caminho para o modelo salvo e para os novos dados\n",
    "\n",
    "# Carregar o modelo treinado\n",
    "\n",
    "# Carregar e preparar a nova nuvem de pontos\n",
    "\n",
    "# Define os nomes das colunas conforme o cabeçalho informado\n",
    "\n",
    "# Selecionar somente as colunas relevantes para a classificação\n",
    "\n",
    "# Classificar a nova nuvem de pontos\n",
    "\n",
    "# Adicionar as previsões ao DataFrame e salvar os resultados"
   ]
  },
  {
   "cell_type": "code",
   "execution_count": null,
   "metadata": {},
   "outputs": [],
   "source": [
    "# Vizualizar a Nuvem de Pontos\n",
    "# Carregar os dados da nuvem de pontos"
   ]
  },
  {
   "cell_type": "code",
   "execution_count": null,
   "metadata": {},
   "outputs": [],
   "source": [
    "# Vizualizar a Nuvem de Pontos Classificada\n",
    "# Extrair as classificações\n",
    "\n"
   ]
  }
 ],
 "metadata": {
  "kernelspec": {
   "display_name": "Python 3",
   "language": "python",
   "name": "python3"
  },
  "language_info": {
   "codemirror_mode": {
    "name": "ipython",
    "version": 3
   },
   "file_extension": ".py",
   "mimetype": "text/x-python",
   "name": "python",
   "nbconvert_exporter": "python",
   "pygments_lexer": "ipython3",
   "version": "3.11.8"
  }
 },
 "nbformat": 4,
 "nbformat_minor": 2
}
